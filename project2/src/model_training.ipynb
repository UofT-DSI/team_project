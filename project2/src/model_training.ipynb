{
    "cells": [
        {
            "cell_type": "code",
            "execution_count": null,
            "metadata": {},
            "outputs": [],
            "source": [
                "# Import necessary libraries\n",
                "import pandas as pd\n",
                "from sklearn.model_selection import train_test_split\n",
                "from sklearn.ensemble import RandomForestClassifier\n",
                "from sklearn.metrics import accuracy_score, classification_report\n",
                "import joblib\n",
                "\n",
                "# Load feature engineered data\n",
                "feature_engineered_data = pd.read_csv('../data/processed/feature_engineered_data.csv')\n",
                "\n",
                "# Function to train the model\n",
                "def train_model(feature_engineered_data):\n",
                "    X = feature_engineered_data.drop('TARGET', axis=1)\n",
                "    y = feature_engineered_data['TARGET']\n",
                "    \n",
                "    X_train, X_test, y_train, y_test = train_test_split(X, y, test_size=0.2, random_state=42)\n",
                "    \n",
                "    model = RandomForestClassifier(random_state=42)\n",
                "    model.fit(X_train, y_train)\n",
                "    \n",
                "    y_pred = model.predict(X_test)\n",
                "    accuracy = accuracy_score(y_test, y_pred)\n",
                "    \n",
                "    print(\"Accuracy:\", accuracy)\n",
                "    print(\"Classification Report:\\n\", classification_report(y_test, y_pred))\n",
                "    \n",
                "    joblib.dump(model, '../models/credit_approval_model.pkl')\n",
                "\n",
                "# Train the model\n",
                "train_model(feature_engineered_data)\n"
            ]
        }
    ],
    "metadata": {
        "language_info": {
            "name": "python"
        }
    },
    "nbformat": 4,
    "nbformat_minor": 2
}
