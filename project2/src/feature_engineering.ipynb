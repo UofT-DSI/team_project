{
    "cells": [
        {
            "cell_type": "code",
            "execution_count": null,
            "metadata": {},
            "outputs": [],
            "source": [
                "# Import necessary libraries\n",
                "import pandas as pd\n",
                "\n",
                "# Load preprocessed data\n",
                "merged_data = pd.read_csv('../data/processed/merged_data.csv')\n",
                "\n",
                "# Function for feature engineering\n",
                "def feature_engineering(merged_data):\n",
                "    # Feature engineering example\n",
                "    merged_data['Income_Per_Family_Member'] = merged_data['AMT_INCOME_TOTAL'] / merged_data['CNT_FAM_MEMBERS']\n",
                "    return merged_data\n",
                "\n",
                "# Apply feature engineering\n",
                "feature_engineered_data = feature_engineering(merged_data)\n",
                "feature_engineered_data.to_csv('../data/processed/feature_engineered_data.csv', index=False)\n",
                "\n",
                "# Display first few rows of feature engineered data\n",
                "print(feature_engineered_data.head())\n"
            ]
        }
    ],
    "metadata": {
        "kernelspec": {
            "display_name": "dsi_participant",
            "language": "python",
            "name": "python3"
        },
        "language_info": {
            "name": "python",
            "version": "3.9.15"
        }
    },
    "nbformat": 4,
    "nbformat_minor": 2
}
