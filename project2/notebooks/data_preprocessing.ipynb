{
 "cells": [
  {
   "cell_type": "code",
   "execution_count": 2,
   "metadata": {},
   "outputs": [
    {
     "name": "stdout",
     "output_type": "stream",
     "text": [
      "        ID CODE_GENDER FLAG_OWN_CAR FLAG_OWN_REALTY  CNT_CHILDREN  \\\n",
      "0  5008804           M            Y               Y             0   \n",
      "1  5008805           M            Y               Y             0   \n",
      "2  5008806           M            Y               Y             0   \n",
      "3  5008808           F            N               Y             0   \n",
      "4  5008809           F            N               Y             0   \n",
      "\n",
      "   AMT_INCOME_TOTAL      NAME_INCOME_TYPE            NAME_EDUCATION_TYPE  \\\n",
      "0          427500.0               Working               Higher education   \n",
      "1          427500.0               Working               Higher education   \n",
      "2          112500.0               Working  Secondary / secondary special   \n",
      "3          270000.0  Commercial associate  Secondary / secondary special   \n",
      "4          270000.0  Commercial associate  Secondary / secondary special   \n",
      "\n",
      "     NAME_FAMILY_STATUS  NAME_HOUSING_TYPE  DAYS_BIRTH  DAYS_EMPLOYED  \\\n",
      "0        Civil marriage   Rented apartment      -12005          -4542   \n",
      "1        Civil marriage   Rented apartment      -12005          -4542   \n",
      "2               Married  House / apartment      -21474          -1134   \n",
      "3  Single / not married  House / apartment      -19110          -3051   \n",
      "4  Single / not married  House / apartment      -19110          -3051   \n",
      "\n",
      "   FLAG_MOBIL  FLAG_WORK_PHONE  FLAG_PHONE  FLAG_EMAIL OCCUPATION_TYPE  \\\n",
      "0           1                1           0           0             NaN   \n",
      "1           1                1           0           0             NaN   \n",
      "2           1                0           0           0  Security staff   \n",
      "3           1                0           1           1     Sales staff   \n",
      "4           1                0           1           1     Sales staff   \n",
      "\n",
      "   CNT_FAM_MEMBERS  TARGET  \n",
      "0              2.0       0  \n",
      "1              2.0       0  \n",
      "2              2.0       0  \n",
      "3              1.0       0  \n",
      "4              1.0       0  \n",
      "Columns in merged_data: Index(['ID', 'CODE_GENDER', 'FLAG_OWN_CAR', 'FLAG_OWN_REALTY', 'CNT_CHILDREN',\n",
      "       'AMT_INCOME_TOTAL', 'NAME_INCOME_TYPE', 'NAME_EDUCATION_TYPE',\n",
      "       'NAME_FAMILY_STATUS', 'NAME_HOUSING_TYPE', 'DAYS_BIRTH',\n",
      "       'DAYS_EMPLOYED', 'FLAG_MOBIL', 'FLAG_WORK_PHONE', 'FLAG_PHONE',\n",
      "       'FLAG_EMAIL', 'OCCUPATION_TYPE', 'CNT_FAM_MEMBERS', 'TARGET'],\n",
      "      dtype='object')\n"
     ]
    }
   ],
   "source": [
    "# notebooks/data_preprocessing.ipynb\n",
    "\n",
    "# Import necessary libraries\n",
    "import pandas as pd\n",
    "\n",
    "# Function to load data\n",
    "def load_data():\n",
    "    application_df = pd.read_csv('../data/raw/application_record.csv')\n",
    "    credit_df = pd.read_csv('../data/raw/credit_record.csv')\n",
    "    return application_df, credit_df\n",
    "\n",
    "# Function to preprocess data\n",
    "def preprocess_data(application_df, credit_df):\n",
    "    # Drop duplicates\n",
    "    application_df.drop_duplicates(inplace=True)\n",
    "    credit_df.drop_duplicates(inplace=True)\n",
    "    \n",
    "    # Create 'TARGET' column: 1 if STATUS indicates overdue payments, else 0\n",
    "    credit_df['TARGET'] = credit_df['STATUS'].apply(lambda x: 1 if x in ['2', '3', '4', '5'] else 0)\n",
    "    \n",
    "    # Aggregate 'TARGET' to have one row per ID\n",
    "    credit_agg = credit_df.groupby('ID')['TARGET'].max().reset_index()\n",
    "    \n",
    "    # Merge datasets on ID column\n",
    "    merged_data = pd.merge(application_df, credit_agg, on='ID', how='inner')\n",
    "    \n",
    "    return merged_data\n",
    "\n",
    "# Load and preprocess data\n",
    "application_df, credit_df = load_data()\n",
    "merged_data = preprocess_data(application_df, credit_df)\n",
    "merged_data.to_csv('../data/processed/merged_data.csv', index=False)\n",
    "\n",
    "# Display first few rows of merged data\n",
    "print(merged_data.head())\n",
    "\n",
    "# Check the columns to ensure 'TARGET' is present\n",
    "print(\"Columns in merged_data:\", merged_data.columns)\n"
   ]
  }
 ],
 "metadata": {
  "kernelspec": {
   "display_name": "dsi_participant",
   "language": "python",
   "name": "python3"
  },
  "language_info": {
   "codemirror_mode": {
    "name": "ipython",
    "version": 3
   },
   "file_extension": ".py",
   "mimetype": "text/x-python",
   "name": "python",
   "nbconvert_exporter": "python",
   "pygments_lexer": "ipython3",
   "version": "3.9.15"
  }
 },
 "nbformat": 4,
 "nbformat_minor": 2
}
