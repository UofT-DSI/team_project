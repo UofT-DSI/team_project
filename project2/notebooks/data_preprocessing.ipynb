{
 "cells": [
  {
   "cell_type": "code",
   "execution_count": 4,
   "metadata": {},
   "outputs": [
    {
     "name": "stdout",
     "output_type": "stream",
     "text": [
      "Accuracy: 0.9900955569505475\n",
      "Classification Report:\n",
      "               precision    recall  f1-score   support\n",
      "\n",
      "           0       0.99      0.99      0.99      7217\n",
      "           1       0.99      0.99      0.99      7120\n",
      "\n",
      "    accuracy                           0.99     14337\n",
      "   macro avg       0.99      0.99      0.99     14337\n",
      "weighted avg       0.99      0.99      0.99     14337\n",
      "\n"
     ]
    }
   ],
   "source": [
    "import pandas as pd\n",
    "from sklearn.model_selection import train_test_split\n",
    "from sklearn.ensemble import RandomForestClassifier\n",
    "from sklearn.metrics import accuracy_score, classification_report\n",
    "from imblearn.over_sampling import SMOTE\n",
    "import joblib\n",
    "import os\n",
    "\n",
    "# Ensure the models directory exists\n",
    "os.makedirs('../models', exist_ok=True)\n",
    "\n",
    "# Load feature engineered data\n",
    "feature_engineered_data = pd.read_csv('../data/processed/feature_engineered_data.csv')\n",
    "\n",
    "# Ensure 'TARGET' column is present\n",
    "if 'TARGET' not in feature_engineered_data.columns:\n",
    "    raise KeyError(\"'TARGET' column not found in the dataset\")\n",
    "\n",
    "# Define features and target\n",
    "X = feature_engineered_data.drop('TARGET', axis=1)\n",
    "y = feature_engineered_data['TARGET']\n",
    "\n",
    "# Apply SMOTE to oversample the minority class\n",
    "smote = SMOTE(random_state=42)\n",
    "X_resampled, y_resampled = smote.fit_resample(X, y)\n",
    "\n",
    "# Split the resampled data\n",
    "X_train, X_test, y_train, y_test = train_test_split(X_resampled, y_resampled, test_size=0.2, random_state=42)\n",
    "\n",
    "# Train model function with class_weight adjustment\n",
    "def train_model(X_train, y_train, X_test, y_test):\n",
    "    model = RandomForestClassifier(random_state=42, class_weight='balanced')\n",
    "    model.fit(X_train, y_train)\n",
    "    \n",
    "    y_pred = model.predict(X_test)\n",
    "    accuracy = accuracy_score(y_test, y_pred)\n",
    "    \n",
    "    print(\"Accuracy:\", accuracy)\n",
    "    print(\"Classification Report:\\n\", classification_report(y_test, y_pred))\n",
    "    \n",
    "    # Save the model to the manually created models directory\n",
    "    joblib.dump(model, '../models/credit_approval_model.pkl')\n",
    "\n",
    "# Train the model\n",
    "train_model(X_train, y_train, X_test, y_test)\n"
   ]
  },
  {
   "cell_type": "code",
   "execution_count": null,
   "metadata": {},
   "outputs": [],
   "source": []
  }
 ],
 "metadata": {
  "kernelspec": {
   "display_name": "dsi_participant",
   "language": "python",
   "name": "python3"
  },
  "language_info": {
   "codemirror_mode": {
    "name": "ipython",
    "version": 3
   },
   "file_extension": ".py",
   "mimetype": "text/x-python",
   "name": "python",
   "nbconvert_exporter": "python",
   "pygments_lexer": "ipython3",
   "version": "3.9.15"
  }
 },
 "nbformat": 4,
 "nbformat_minor": 2
}
