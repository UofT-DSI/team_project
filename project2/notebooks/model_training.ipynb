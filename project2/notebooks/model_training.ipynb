{
 "cells": [
  {
   "cell_type": "code",
   "execution_count": 6,
   "metadata": {},
   "outputs": [
    {
     "name": "stdout",
     "output_type": "stream",
     "text": [
      "Accuracy: 0.9786066922654965\n",
      "Classification Report:\n",
      "               precision    recall  f1-score   support\n",
      "\n",
      "           0       0.99      0.99      0.99      7175\n",
      "           1       0.28      0.21      0.24       117\n",
      "\n",
      "    accuracy                           0.98      7292\n",
      "   macro avg       0.63      0.60      0.62      7292\n",
      "weighted avg       0.98      0.98      0.98      7292\n",
      "\n"
     ]
    }
   ],
   "source": [
    "# Import necessary libraries\n",
    "import pandas as pd\n",
    "from sklearn.model_selection import train_test_split\n",
    "from sklearn.ensemble import RandomForestClassifier\n",
    "from sklearn.metrics import accuracy_score, classification_report\n",
    "import joblib\n",
    "\n",
    "# Load feature engineered data\n",
    "feature_engineered_data = pd.read_csv('../data/processed/feature_engineered_data.csv')\n",
    "\n",
    "# Ensure 'TARGET' column is present\n",
    "if 'TARGET' not in feature_engineered_data.columns:\n",
    "    raise KeyError(\"'TARGET' column not found in the dataset\")\n",
    "\n",
    "# Train model function\n",
    "def train_model(feature_engineered_data):\n",
    "    X = feature_engineered_data.drop('TARGET', axis=1)\n",
    "    y = feature_engineered_data['TARGET']\n",
    "    \n",
    "    X_train, X_test, y_train, y_test = train_test_split(X, y, test_size=0.2, random_state=42)\n",
    "    \n",
    "    model = RandomForestClassifier(random_state=42)\n",
    "    model.fit(X_train, y_train)\n",
    "    \n",
    "    y_pred = model.predict(X_test)\n",
    "    accuracy = accuracy_score(y_test, y_pred)\n",
    "    \n",
    "    print(\"Accuracy:\", accuracy)\n",
    "    print(\"Classification Report:\\n\", classification_report(y_test, y_pred))\n",
    "    \n",
    "    # Save the model to the manually created models directory\n",
    "    joblib.dump(model, '../models/credit_approval_model.pkl')\n",
    "\n",
    "# Train the model\n",
    "train_model(feature_engineered_data)\n",
    "\n"
   ]
  }
 ],
 "metadata": {
  "kernelspec": {
   "display_name": "dsi_participant",
   "language": "python",
   "name": "python3"
  },
  "language_info": {
   "codemirror_mode": {
    "name": "ipython",
    "version": 3
   },
   "file_extension": ".py",
   "mimetype": "text/x-python",
   "name": "python",
   "nbconvert_exporter": "python",
   "pygments_lexer": "ipython3",
   "version": "3.9.15"
  }
 },
 "nbformat": 4,
 "nbformat_minor": 2
}
